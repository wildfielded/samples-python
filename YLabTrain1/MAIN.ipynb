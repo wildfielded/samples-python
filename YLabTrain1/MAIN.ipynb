{
 "cells": [
  {
   "cell_type": "code",
   "execution_count": 1,
   "id": "empty-arlington",
   "metadata": {},
   "outputs": [],
   "source": [
    "post = {'id': 0, 'coords': (0, 2), 'descr': 'Почтовое отделение'}\n",
    "point1 = {'id': 1, 'coords': (2, 5), 'descr': 'Ул. Грибоедова, 104/25'}\n",
    "point2 = {'id': 2, 'coords': (5, 2), 'descr': 'Ул. Бейкер стрит, 221б'}\n",
    "point3 = {'id': 3, 'coords': (6, 6), 'descr': 'Ул. Большая Садовая, 302-бис'}\n",
    "point4 = {'id': 4, 'coords': (8, 3), 'descr': 'Вечнозелёная Аллея, 742'}\n",
    "\n",
    "point_list = [post, point1, point2, point3, point4]\n",
    "point_set = set([point_['id'] for point_ in point_list[1:]])"
   ]
  },
  {
   "cell_type": "code",
   "execution_count": 3,
   "id": "organizational-cycle",
   "metadata": {},
   "outputs": [
    {
     "name": "stdout",
     "output_type": "stream",
     "text": [
      "[[1, 2, 3, 4, 0], [1, 2, 4, 3, 0], [1, 3, 2, 4, 0], [1, 3, 4, 2, 0], [1, 4, 2, 3, 0], [1, 4, 3, 2, 0], [2, 1, 3, 4, 0], [2, 1, 4, 3, 0], [2, 3, 1, 4, 0], [2, 3, 4, 1, 0], [2, 4, 1, 3, 0], [2, 4, 3, 1, 0], [3, 1, 2, 4, 0], [3, 1, 4, 2, 0], [3, 2, 1, 4, 0], [3, 2, 4, 1, 0], [3, 4, 1, 2, 0], [3, 4, 2, 1, 0], [4, 1, 2, 3, 0], [4, 1, 3, 2, 0], [4, 2, 1, 3, 0], [4, 2, 3, 1, 0], [4, 3, 1, 2, 0], [4, 3, 2, 1, 0]]\n",
      "24\n"
     ]
    }
   ],
   "source": [
    "draft_routes = [\n",
    "    [1,2,3,4],\n",
    "    [1,2,4,3],\n",
    "    [1,3,2,4],\n",
    "    [1,3,4,2],\n",
    "    [1,4,2,3],\n",
    "    [1,4,3,2],\n",
    "    [2,1,3,4],\n",
    "    [2,1,4,3],\n",
    "    [2,3,1,4],\n",
    "    [2,3,4,1],\n",
    "    [2,4,1,3],\n",
    "    [2,4,3,1],\n",
    "    [3,1,2,4],\n",
    "    [3,1,4,2],\n",
    "    [3,2,1,4],\n",
    "    [3,2,4,1],\n",
    "    [3,4,1,2],\n",
    "    [3,4,2,1],\n",
    "    [4,1,2,3],\n",
    "    [4,1,3,2],\n",
    "    [4,2,1,3],\n",
    "    [4,2,3,1],\n",
    "    [4,3,1,2],\n",
    "    [4,3,2,1]\n",
    "]\n",
    "for r_ in draft_routes:\n",
    "    r_ += [0]\n",
    "print(draft_routes)\n",
    "print(len(draft_routes))"
   ]
  },
  {
   "cell_type": "code",
   "execution_count": 4,
   "id": "perfect-holocaust",
   "metadata": {},
   "outputs": [],
   "source": [
    "def create_distance_array(point_list_):\n",
    "    calc_distance = lambda a, b : ((a['coords'][0] - b['coords'][0]) ** 2 + (a['coords'][1] - b['coords'][1]) ** 2) ** 0.5\n",
    "    len_ = len(point_list_)\n",
    "    distance_array = [[0 for col_ in range(len_)] for raw_ in range(len_)]\n",
    "    for start_point in point_list_:\n",
    "        i_ = start_point['id']\n",
    "        for finish_point in point_list_[i_+1:]:\n",
    "            j_ = finish_point['id']\n",
    "            distance_array[i_][j_] = distance_array[j_][i_] = calc_distance(point_list_[i_], point_list_[j_])\n",
    "    return distance_array"
   ]
  },
  {
   "cell_type": "code",
   "execution_count": 5,
   "id": "informed-confirmation",
   "metadata": {},
   "outputs": [
    {
     "name": "stdout",
     "output_type": "stream",
     "text": [
      "[0, 3.605551275463989, 5.0, 7.211102550927978, 8.06225774829855]\n",
      "[3.605551275463989, 0, 4.242640687119285, 4.123105625617661, 6.324555320336759]\n",
      "[5.0, 4.242640687119285, 0, 4.123105625617661, 3.1622776601683795]\n",
      "[7.211102550927978, 4.123105625617661, 4.123105625617661, 0, 3.605551275463989]\n",
      "[8.06225774829855, 6.324555320336759, 3.1622776601683795, 3.605551275463989, 0]\n",
      "5.0\n",
      "5.0\n",
      "6.324555320336759\n",
      "6.324555320336759\n"
     ]
    }
   ],
   "source": [
    "distance_array = create_distance_array(point_list)\n",
    "for k_ in distance_array:\n",
    "    print(k_)\n",
    "print(distance_array[0][2])\n",
    "print(distance_array[2][0])\n",
    "print(distance_array[1][-1])\n",
    "print(distance_array[-1][1])"
   ]
  },
  {
   "cell_type": "code",
   "execution_count": 22,
   "id": "dying-rainbow",
   "metadata": {},
   "outputs": [
    {
     "name": "stdout",
     "output_type": "stream",
     "text": [
      "AA = [[1, 2, 3, 4], [1, 2, 4, 3], [1, 3, 2, 4], [1, 3, 4, 2], [1, 4, 2, 3], [1, 4, 3, 2], [2, 1, 3, 4], [2, 1, 4, 3], [2, 3, 1, 4], [2, 3, 4, 1], [2, 4, 1, 3], [2, 4, 3, 1], [3, 1, 2, 4], [3, 1, 4, 2], [3, 2, 1, 4], [3, 2, 4, 1], [3, 4, 1, 2], [3, 4, 2, 1], [4, 1, 2, 3], [4, 1, 3, 2], [4, 2, 1, 3], [4, 2, 3, 1], [4, 3, 1, 2], [4, 3, 2, 1]] \n",
      "Routes quantity is 24\n"
     ]
    }
   ],
   "source": [
    "ll_ = []\n",
    "ss_ = {1, 2, 3, 4}\n",
    "def ttt(set_: set={}, list_: list=[]):\n",
    "    output_list = []\n",
    "    for nnn_ in (k_ for k_ in set_):\n",
    "        output_list.append(list_ + [nnn_])\n",
    "    return output_list\n",
    "#####print(ttt(ss_, ll_))\n",
    "\n",
    "def recurs(set_: set={}, list_: list=[]):\n",
    "    output_list = []\n",
    "    if len(list_) > 0:\n",
    "        if len(list_[0]) < len(set_):\n",
    "            tmp_list = []\n",
    "            for r_ in list_:\n",
    "                tmp_set = set_.copy()\n",
    "                for n_ in r_:\n",
    "                    tmp_set.remove(n_)\n",
    "                #####add_list = ttt(tmp_set, r_)\n",
    "                #####tmp_list += add_list\n",
    "                tmp_list += ttt(tmp_set, r_)\n",
    "            output_list = tmp_list\n",
    "            recurs(set_, output_list)\n",
    "        else:\n",
    "            global all_routes\n",
    "            all_routes = list_\n",
    "    else:\n",
    "        output_list += ttt(set_)\n",
    "        recurs(set_, output_list)\n",
    "\n",
    "all_routes = []\n",
    "recurs(ss_)\n",
    "print('AA =', all_routes, '\\nRoutes quantity is', len(all_routes))"
   ]
  },
  {
   "cell_type": "code",
   "execution_count": 7,
   "id": "elect-bacon",
   "metadata": {},
   "outputs": [
    {
     "name": "stdout",
     "output_type": "stream",
     "text": [
      "120\n"
     ]
    }
   ],
   "source": [
    "def fact(n):\n",
    "    if n == 1:\n",
    "        return n\n",
    "    else:\n",
    "        return n * fact(n-1)\n",
    "print(fact(5))"
   ]
  },
  {
   "cell_type": "code",
   "execution_count": 8,
   "id": "scheduled-transmission",
   "metadata": {},
   "outputs": [
    {
     "name": "stdout",
     "output_type": "stream",
     "text": [
      "NEWLIST [[1], [2], [3], [4]]\n",
      "LENGTH 4\n",
      "NEWLIST [[1, 2], [1, 3], [1, 4], [2, 1], [2, 3], [2, 4], [3, 1], [3, 2], [3, 4], [4, 1], [4, 2], [4, 3]]\n",
      "LENGTH 12\n",
      "NEWLIST [[1, 2, 3], [1, 2, 4], [1, 3, 2], [1, 3, 4], [1, 4, 2], [1, 4, 3], [2, 1, 3], [2, 1, 4], [2, 3, 1], [2, 3, 4], [2, 4, 1], [2, 4, 3], [3, 1, 2], [3, 1, 4], [3, 2, 1], [3, 2, 4], [3, 4, 1], [3, 4, 2], [4, 1, 2], [4, 1, 3], [4, 2, 1], [4, 2, 3], [4, 3, 1], [4, 3, 2]]\n",
      "LENGTH 24\n",
      "NEWLIST [[1, 2, 3, 4], [1, 2, 4, 3], [1, 3, 2, 4], [1, 3, 4, 2], [1, 4, 2, 3], [1, 4, 3, 2], [2, 1, 3, 4], [2, 1, 4, 3], [2, 3, 1, 4], [2, 3, 4, 1], [2, 4, 1, 3], [2, 4, 3, 1], [3, 1, 2, 4], [3, 1, 4, 2], [3, 2, 1, 4], [3, 2, 4, 1], [3, 4, 1, 2], [3, 4, 2, 1], [4, 1, 2, 3], [4, 1, 3, 2], [4, 2, 1, 3], [4, 2, 3, 1], [4, 3, 1, 2], [4, 3, 2, 1]]\n",
      "LENGTH 24\n"
     ]
    }
   ],
   "source": [
    "s = {1, 2, 3, 4}\n",
    "l = []\n",
    "l1 = []\n",
    "#####for m in l:\n",
    "stmp = s.copy()\n",
    "#####for mt in m:\n",
    "    #####stmp.remove(mt)\n",
    "n = ttt(stmp)\n",
    "l1 += n\n",
    "\n",
    "l = l1\n",
    "print('NEWLIST', l)\n",
    "print('LENGTH', len(l))\n",
    "\n",
    "s = {1, 2, 3, 4}\n",
    "l = [[1], [2], [3], [4]]\n",
    "l2 = []\n",
    "for m in l:\n",
    "    stmp = s.copy()\n",
    "    for mt in m:\n",
    "        stmp.remove(mt)\n",
    "    n = ttt(stmp, m)\n",
    "    l2 += n\n",
    "l = l2\n",
    "print('NEWLIST', l)\n",
    "print('LENGTH', len(l))\n",
    "l3 = []\n",
    "for m in l:\n",
    "    stmp = s.copy()\n",
    "    for mt in m:\n",
    "        stmp.remove(mt)\n",
    "    n = ttt(stmp, m)\n",
    "    l3 += n\n",
    "l = l3\n",
    "print('NEWLIST', l)\n",
    "print('LENGTH', len(l))\n",
    "l4 = []\n",
    "for m in l:\n",
    "    stmp = s.copy()\n",
    "    for mt in m:\n",
    "        stmp.remove(mt)\n",
    "    n = ttt(stmp, m)\n",
    "    l4 += n\n",
    "l = l4\n",
    "print('NEWLIST', l)\n",
    "print('LENGTH', len(l))\n"
   ]
  },
  {
   "cell_type": "code",
   "execution_count": 9,
   "id": "narrow-immunology",
   "metadata": {},
   "outputs": [
    {
     "name": "stdout",
     "output_type": "stream",
     "text": [
      "[[1]]\n",
      "[[1], [2]]\n",
      "[[1], [2], [3]]\n",
      "1\n",
      "2\n",
      "3\n",
      "1\n",
      "2\n",
      "3\n"
     ]
    }
   ],
   "source": [
    "def test(set_, list_: list=[]):\n",
    "    ll_ = []\n",
    "    if len(list_) > 0:\n",
    "        for li_ in list_:\n",
    "            ss_ = set_.copy()\n",
    "            ss_.remove(li_)\n",
    "            ll_ = li_.copy()\n",
    "            for i_ in set_:\n",
    "                ll_ += [i_]\n",
    "                print('list:', list_)\n",
    "            #list_.remove(li_)\n",
    "    else:\n",
    "        for i_ in set_:\n",
    "            ss_ = set_.copy()\n",
    "            ss_.remove(i_)\n",
    "            list_.append([i_])\n",
    "            print(list_)\n",
    "lll = [[1], [2], [3]]\n",
    "sss = {1, 2, 3}\n",
    "test(sss)\n",
    "def gen(set_):\n",
    "    for i_ in set_:\n",
    "        yield i_\n",
    "for j_ in gen(sss):\n",
    "    print(j_)\n",
    "gener = lambda s_ : (k_ for k_ in s_)\n",
    "for m_ in gener(sss):\n",
    "    print(m_)"
   ]
  },
  {
   "cell_type": "code",
   "execution_count": null,
   "id": "bound-niger",
   "metadata": {},
   "outputs": [],
   "source": []
  }
 ],
 "metadata": {
  "kernelspec": {
   "display_name": "Python 3",
   "language": "python",
   "name": "python3"
  },
  "language_info": {
   "codemirror_mode": {
    "name": "ipython",
    "version": 3
   },
   "file_extension": ".py",
   "mimetype": "text/x-python",
   "name": "python",
   "nbconvert_exporter": "python",
   "pygments_lexer": "ipython3",
   "version": "3.9.2"
  }
 },
 "nbformat": 4,
 "nbformat_minor": 5
}
