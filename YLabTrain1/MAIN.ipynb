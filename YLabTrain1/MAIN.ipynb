{
 "cells": [
  {
   "cell_type": "code",
   "execution_count": 37,
   "metadata": {},
   "outputs": [],
   "source": [
    "post = {'id': 0, 'coords': (0.0, 2.0), 'descr': 'Почтовое отделение'}\n",
    "point1 = {'id': 1, 'coords': (2.0, 5.0), 'descr': 'Ул. Грибоедова, 104/25'}\n",
    "point2 = {'id': 2, 'coords': (5.0, 2.0), 'descr': 'Ул. Бейкер стрит, 221б'}\n",
    "point3 = {'id': 3, 'coords': (6.0, 6.0), 'descr': 'Ул. Большая Садовая, 302-бис'}\n",
    "point4 = {'id': 4, 'coords': (8.0, 3.0), 'descr': 'Вечнозелёная Аллея, 742'}\n",
    "\n",
    "point_list = [post, point1, point2, point3, point4]\n",
    "point_set = set([point_['id'] for point_ in point_list[1:]])\n",
    "all_routes = []"
   ]
  },
  {
   "cell_type": "code",
   "execution_count": 38,
   "metadata": {},
   "outputs": [],
   "source": [
    "def create_distance_array(point_list_):\n",
    "    calc_dist = lambda a, b : ((a['coords'][0] - b['coords'][0]) ** 2 + (a['coords'][1] - b['coords'][1]) ** 2) ** 0.5\n",
    "    len_ = len(point_list_)\n",
    "    dist_array_ = [[0 for col_ in range(len_)] for raw_ in range(len_)]\n",
    "    for start_point in point_list_:\n",
    "        s_ = start_point['id']\n",
    "        for finish_point in point_list_[s_+1:]:\n",
    "            f_ = finish_point['id']\n",
    "            dist_array_[s_][f_] = dist_array_[f_][s_] = calc_dist(point_list_[s_], point_list_[f_])\n",
    "    return dist_array_\n",
    "\n",
    "def multiply_list(set_: set={}, list_: list=[]):\n",
    "    output_list_ = []\n",
    "    for item_ in (s_ for s_ in set_):\n",
    "        output_list_.append(list_ + [item_])\n",
    "    return output_list_\n",
    "\n",
    "def find_routes(set_: set={}, list_: list=[]):\n",
    "    result_list_ = []\n",
    "    if len(list_) > 0:\n",
    "        if len(list_[0]) < len(set_):\n",
    "            tmp_list_ = []\n",
    "            for id_list_ in list_:\n",
    "                tmp_set_ = set_.copy()\n",
    "                for id_ in id_list_:\n",
    "                    tmp_set_.remove(id_)\n",
    "                tmp_list_ += multiply_list(tmp_set_, id_list_)\n",
    "            result_list_ = tmp_list_\n",
    "            find_routes(set_, result_list_)\n",
    "        else:\n",
    "            global all_routes\n",
    "            all_routes = list_\n",
    "    else:\n",
    "        result_list_ += multiply_list(set_)\n",
    "        find_routes(set_, result_list_)"
   ]
  },
  {
   "cell_type": "code",
   "execution_count": 39,
   "metadata": {},
   "outputs": [],
   "source": [
    "def calc_distance(list_, distance_array_):\n",
    "    distance = 0.0\n",
    "    distance += (distance_array_[0][list_[0]] + distance_array_[0][list_[-1]])\n",
    "    for d_ in range(len(list_) - 1):\n",
    "        distance += distance_array_[list_[d_]][list_[d_+1]]\n",
    "    return distance\n",
    "\n",
    "def get_shorty(route_list_, point_list_, distance_array_):\n",
    "    min_route_ = []\n",
    "    min_dist_ = 0.0\n",
    "    for route_ in route_list_:\n",
    "        length_ = calc_distance(route_, distance_array_)\n",
    "        print(length_)\n",
    "        if bool(min_dist_):\n",
    "            if min_dist_ < length_:\n",
    "                continue\n",
    "            else:\n",
    "                min_dist_ = length_\n",
    "        else:\n",
    "            min_dist_ = length_\n",
    "    print('SHORT', min_dist_)\n"
   ]
  },
  {
   "cell_type": "code",
   "execution_count": 40,
   "metadata": {},
   "outputs": [
    {
     "name": "stdout",
     "output_type": "stream",
     "text": [
      "[0, 3.605551275463989, 5.0, 7.211102550927978, 8.06225774829855]\n",
      "[3.605551275463989, 0, 4.242640687119285, 4.123105625617661, 6.324555320336759]\n",
      "[5.0, 4.242640687119285, 0, 4.123105625617661, 3.1622776601683795]\n",
      "[7.211102550927978, 4.123105625617661, 4.123105625617661, 0, 3.605551275463989]\n",
      "[8.06225774829855, 6.324555320336759, 3.1622776601683795, 3.605551275463989, 0]\n",
      "23.639106611963474\n",
      "21.827123449143617\n",
      "23.076297935166238\n",
      "19.496485836714015\n",
      "24.426592432514767\n",
      "22.658763496882397\n",
      "25.033555336499482\n",
      "26.38384983384801\n",
      "27.633024319870632\n",
      "22.658763496882397\n",
      "25.82104115705078\n",
      "19.49648583671402\n",
      "26.801384272131852\n",
      "25.82104115705078\n",
      "29.963661932300234\n",
      "24.426592432514767\n",
      "26.38384983384801\n",
      "21.82712344914362\n",
      "29.963661932300234\n",
      "27.633024319870632\n",
      "26.801384272131852\n",
      "23.07629793516624\n",
      "25.033555336499482\n",
      "23.639106611963474\n",
      "SHORT 19.496485836714015\n"
     ]
    }
   ],
   "source": [
    "distance_array = create_distance_array(point_list)\n",
    "for k_ in distance_array:\n",
    "    print(k_)\n",
    "find_routes(point_set)\n",
    "#####print(all_routes[0])\n",
    "get_shorty(all_routes, point_list, distance_array)"
   ]
  },
  {
   "cell_type": "code",
   "execution_count": 5,
   "metadata": {},
   "outputs": [
    {
     "name": "stdout",
     "output_type": "stream",
     "text": [
      "1\n",
      "2\n",
      "3\n",
      "1\n",
      "2\n",
      "3\n"
     ]
    }
   ],
   "source": [
    "def test(set_, list_: list=[]):\n",
    "    ll_ = []\n",
    "    if len(list_) > 0:\n",
    "        for li_ in list_:\n",
    "            ss_ = set_.copy()\n",
    "            ss_.remove(li_)\n",
    "            ll_ = li_.copy()\n",
    "            for i_ in set_:\n",
    "                ll_ += [i_]\n",
    "                print('list:', list_)\n",
    "            #list_.remove(li_)\n",
    "    else:\n",
    "        for i_ in set_:\n",
    "            ss_ = set_.copy()\n",
    "            ss_.remove(i_)\n",
    "            list_.append([i_])\n",
    "            print(list_)\n",
    "lll = [[1], [2], [3]]\n",
    "sss = {1, 2, 3}\n",
    "#####test(sss)\n",
    "def gen(set_):\n",
    "    for i_ in set_:\n",
    "        yield i_\n",
    "for j_ in gen(sss):\n",
    "    print(j_)\n",
    "gener = lambda s_ : (k_ for k_ in s_)\n",
    "for m_ in gener(sss):\n",
    "    print(m_)"
   ]
  },
  {
   "cell_type": "code",
   "execution_count": null,
   "metadata": {},
   "outputs": [],
   "source": []
  }
 ],
 "metadata": {
  "kernelspec": {
   "display_name": "Python 3",
   "language": "python",
   "name": "python3"
  },
  "language_info": {
   "codemirror_mode": {
    "name": "ipython",
    "version": 3
   },
   "file_extension": ".py",
   "mimetype": "text/x-python",
   "name": "python",
   "nbconvert_exporter": "python",
   "pygments_lexer": "ipython3",
   "version": "3.7.3"
  }
 },
 "nbformat": 4,
 "nbformat_minor": 5
}
