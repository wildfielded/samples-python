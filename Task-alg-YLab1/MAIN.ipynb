{
 "cells": [
  {
   "cell_type": "code",
   "execution_count": 179,
   "metadata": {},
   "outputs": [],
   "source": [
    "post = {'id': 0, 'coords': (0, 2), 'descr': 'Почтовое отделение'}\n",
    "point1 = {'id': 1, 'coords': (2, 5), 'descr': 'Ул. Грибоедова, 104/25'}\n",
    "point2 = {'id': 2, 'coords': (5, 2), 'descr': 'Ул. Бейкер стрит, 221б'}\n",
    "point3 = {'id': 3, 'coords': (6, 6), 'descr': 'Ул. Большая Садовая, 302-бис'}\n",
    "point4 = {'id': 4, 'coords': (8, 3), 'descr': 'Вечнозелёная Аллея, 742'}\n",
    "\n",
    "point_list = [post, point1, point2, point3, point4]\n",
    "point_set = set([point_['id'] for point_ in point_list[1:]])\n",
    "all_routes = []\n",
    "ALLOWED_DELTA = 0.001"
   ]
  },
  {
   "cell_type": "code",
   "execution_count": 180,
   "metadata": {},
   "outputs": [],
   "source": [
    "def create_distance_array(point_list_):\n",
    "    calc_dist = lambda a, b : ((a['coords'][0] - b['coords'][0]) ** 2 + (a['coords'][1] - b['coords'][1]) ** 2) ** 0.5\n",
    "    len_ = len(point_list_)\n",
    "    dist_array_ = [[0 for col_ in range(len_)] for raw_ in range(len_)]\n",
    "    for start_point in point_list_:\n",
    "        s_ = start_point['id']\n",
    "        for finish_point in point_list_[s_+1:]:\n",
    "            f_ = finish_point['id']\n",
    "            dist_array_[s_][f_] = dist_array_[f_][s_] = calc_dist(point_list_[s_], point_list_[f_])\n",
    "    return dist_array_\n",
    "\n",
    "def multiply_list(set_: set={}, list_: list=[]):\n",
    "    output_list_ = []\n",
    "    for item_ in (s_ for s_ in set_):\n",
    "        output_list_.append(list_ + [item_])\n",
    "    return output_list_\n",
    "\n",
    "def find_routes(set_: set={}, list_: list=[]):\n",
    "    result_list_ = []\n",
    "    if len(list_) > 0:\n",
    "        if len(list_[0]) < len(set_):\n",
    "            tmp_list_ = []\n",
    "            for id_list_ in list_:\n",
    "                tmp_set_ = set_.copy()\n",
    "                for id_ in id_list_:\n",
    "                    tmp_set_.remove(id_)\n",
    "                tmp_list_ += multiply_list(tmp_set_, id_list_)\n",
    "            result_list_ = tmp_list_\n",
    "            find_routes(set_, result_list_)\n",
    "        else:\n",
    "            global all_routes\n",
    "            all_routes = list_\n",
    "    else:\n",
    "        result_list_ += multiply_list(set_)\n",
    "        find_routes(set_, result_list_)"
   ]
  },
  {
   "cell_type": "code",
   "execution_count": 181,
   "metadata": {},
   "outputs": [],
   "source": [
    "def calc_distance(route_list_, distance_array_):\n",
    "    distance = (distance_array_[0][route_list_[0]] + distance_array_[0][route_list_[-1]])\n",
    "    for d_ in range(len(route_list_) - 1):\n",
    "        distance += distance_array_[route_list_[d_]][route_list_[d_+1]]\n",
    "    return distance\n",
    "\n",
    "def get_shorty(route_list_, point_list_, distance_array_):\n",
    "    min_route_ = []\n",
    "    min_dist_ = 0.0\n",
    "    for route_ in route_list_:\n",
    "        length_ = calc_distance(route_, distance_array_)\n",
    "        #####print(length_)\n",
    "        if min_dist_:\n",
    "            if length_ < min_dist_:\n",
    "                min_dist_ = length_\n",
    "                min_route_ = [route_]\n",
    "                #####print('minimum check')\n",
    "        else:\n",
    "            min_dist_ = length_\n",
    "    for route_ in route_list_:\n",
    "        if route_ != min_route_[0]:\n",
    "            length_ = calc_distance(route_, distance_array_)\n",
    "            if (length_ - min_dist_) ** 2 < ALLOWED_DELTA:\n",
    "                min_route_.append(route_)\n",
    "    return min_route_"
   ]
  },
  {
   "cell_type": "code",
   "execution_count": 182,
   "metadata": {},
   "outputs": [],
   "source": [
    "def write_string(list_, point_list_, distance_array_):\n",
    "    dist_sum_ = 0.0\n",
    "    list_ = [0] + list_ + [0]\n",
    "    output_str_ = str(point_list_[0]['coords'])\n",
    "    for r_ in range(len(list_) - 2):\n",
    "        dist_sum_ += distance_array_[list_[r_]][list_[r_+1]]\n",
    "        #####print('DIST', distance_array_[list_[r_]][list_[r_+1]])\n",
    "        #####print('DIST_SUM', dist_sum_)\n",
    "        p_ = str(point_list_[list_[r_+1]]['coords'])\n",
    "        d_ = str(dist_sum_)\n",
    "        output_str_ += ' -> {}[{}]'.format(p_, d_)\n",
    "    dist_sum_ += distance_array_[list_[-2]][0]\n",
    "    #####print('DIST', distance_array_[list_[r_]][list_[r_+1]])\n",
    "    #####print('DIST_SUM', dist_sum_)\n",
    "    p_ = str(point_list_[0]['coords'])\n",
    "    d_ = str(dist_sum_)\n",
    "    output_str_ += ' -> {}[{}] = {}'.format(p_, d_, d_)\n",
    "    return output_str_\n",
    "\n",
    "def output_result(short_list_, point_list_, distance_array_):\n",
    "    output_str_ = u'Кратчайший маршрут:\\n'\n",
    "    output_str_ += write_string(short_list_[0], point_list_, distance_array_)\n",
    "    if len(short_list_) > 1:\n",
    "        output_str_ += u'\\nАльтернативные кратчайшие маршруты:\\n'\n",
    "        for alt_list_ in short_list_[1:]:\n",
    "            output_str_ += write_string(alt_list_, point_list_, distance_array_)\n",
    "    return output_str_"
   ]
  },
  {
   "cell_type": "code",
   "execution_count": 186,
   "metadata": {},
   "outputs": [
    {
     "name": "stdout",
     "output_type": "stream",
     "text": [
      "Кратчайший маршрут:\n",
      "(0, 2) -> (2, 5)[3.605551275463989] -> (6, 6)[7.728656901081649] -> (8, 3)[11.334208176545639] -> (5, 2)[14.496485836714019] -> (0, 2)[19.49648583671402] = 19.49648583671402\n",
      "Альтернативные кратчайшие маршруты:\n",
      "(0, 2) -> (5, 2)[5.0] -> (8, 3)[8.16227766016838] -> (6, 6)[11.76782893563237] -> (2, 5)[15.890934561250031] -> (0, 2)[19.49648583671402] = 19.49648583671402\n"
     ]
    }
   ],
   "source": [
    "distance_array = create_distance_array(point_list)\n",
    "#####for k_ in distance_array:\n",
    "    #####print(k_)\n",
    "find_routes(point_set)\n",
    "minimals = get_shorty(all_routes, point_list, distance_array)\n",
    "#####print('ITOGO =', minimals)\n",
    "print(output_result(minimals, point_list, distance_array))"
   ]
  },
  {
   "cell_type": "code",
   "execution_count": null,
   "metadata": {},
   "outputs": [],
   "source": []
  }
 ],
 "metadata": {
  "kernelspec": {
   "display_name": "Python 3",
   "language": "python",
   "name": "python3"
  },
  "language_info": {
   "codemirror_mode": {
    "name": "ipython",
    "version": 3
   },
   "file_extension": ".py",
   "mimetype": "text/x-python",
   "name": "python",
   "nbconvert_exporter": "python",
   "pygments_lexer": "ipython3",
   "version": "3.7.3"
  }
 },
 "nbformat": 4,
 "nbformat_minor": 5
}
